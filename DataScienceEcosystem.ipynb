{
 "cells": [
  {
   "cell_type": "markdown",
   "id": "83fc3a91",
   "metadata": {},
   "source": [
    "# Data Science Tools and Ecosystem"
   ]
  },
  {
   "cell_type": "markdown",
   "id": "4f86db81",
   "metadata": {},
   "source": [
    "In this notebook, Data Science Tools and Ecosystem are summarized."
   ]
  },
  {
   "cell_type": "markdown",
   "id": "076fa247",
   "metadata": {},
   "source": [
    "Some of the popular languages that Data Scientists use are:\n",
    "1. Python\n",
    "2. R\n",
    "3. SQL\n",
    "4. Java\n",
    "5. C++"
   ]
  },
  {
   "cell_type": "markdown",
   "id": "d25f4956",
   "metadata": {},
   "source": [
    "Some of the commonly used libraries used by Data Scientists include:\n",
    "1. Pandas and NumPy for scientific computing in python\n",
    "2. MatPlotlib for data visualization in python\n",
    "3. ggplot for data visualization in R\n",
    "4. Tensorflow for machine learning and AI"
   ]
  },
  {
   "cell_type": "markdown",
   "id": "16cece5a",
   "metadata": {},
   "source": [
    "| Data Science Tools | \n",
    "| ------ |\n",
    "| Data Management: MySQL, Postgre SQL, Hadoop File System |\n",
    "| Data Integration and Transformation: Apache AirFlow, Apache SparkSQL |\n",
    "| Data Visualization: Pixie Dust, Apache Superset |"
   ]
  },
  {
   "cell_type": "markdown",
   "id": "dbcd0e96",
   "metadata": {},
   "source": [
    "### Below are a few examples of evaluating arithmetic expressions in Python"
   ]
  },
  {
   "cell_type": "code",
   "execution_count": 1,
   "id": "f7b07b9c",
   "metadata": {},
   "outputs": [
    {
     "data": {
      "text/plain": [
       "17"
      ]
     },
     "execution_count": 1,
     "metadata": {},
     "output_type": "execute_result"
    }
   ],
   "source": [
    "#This a simple arithmetic expression to mutiply then add integers\n",
    "(3*4)+5"
   ]
  },
  {
   "cell_type": "code",
   "execution_count": 3,
   "id": "97d25d10",
   "metadata": {},
   "outputs": [
    {
     "name": "stdout",
     "output_type": "stream",
     "text": [
      "3.3333333333333335\n"
     ]
    }
   ],
   "source": [
    "#This will convert 200 minutes to hours by dividing by 60\n",
    "m=200\n",
    "h=m/60\n",
    "print(h)"
   ]
  },
  {
   "cell_type": "markdown",
   "id": "e7772674",
   "metadata": {},
   "source": [
    "**Objectives:**"
   ]
  },
  {
   "cell_type": "markdown",
   "id": "f75a2ba0",
   "metadata": {},
   "source": [
    "- List popular languages used in Data Science\n",
    "- List commonly used libraries\n",
    "- Create a chart of Data Science tools\n",
    "- Solve basic arithemtic expressions using python"
   ]
  },
  {
   "cell_type": "markdown",
   "id": "3d0ae5c0",
   "metadata": {},
   "source": [
    "## Author\n",
    "Erin Howe"
   ]
  }
 ],
 "metadata": {
  "kernelspec": {
   "display_name": "Python 3 (ipykernel)",
   "language": "python",
   "name": "python3"
  },
  "language_info": {
   "codemirror_mode": {
    "name": "ipython",
    "version": 3
   },
   "file_extension": ".py",
   "mimetype": "text/x-python",
   "name": "python",
   "nbconvert_exporter": "python",
   "pygments_lexer": "ipython3",
   "version": "3.11.5"
  }
 },
 "nbformat": 4,
 "nbformat_minor": 5
}
